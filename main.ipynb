{
 "cells": [
  {
   "cell_type": "code",
   "execution_count": 1,
   "id": "0078bc7a",
   "metadata": {},
   "outputs": [],
   "source": [
    "import os\n",
    "\n",
    "from dotenv import load_dotenv, find_dotenv\n",
    "from langchain.chat_models import ChatOpenAI\n",
    "from langchain.prompts import PromptTemplate\n",
    "from langchain.chains.question_answering import load_qa_chain \n",
    "from langchain.chains import LLMChain\n",
    "from langchain.schema.messages import HumanMessage\n",
    "from langchain.callbacks import get_openai_callback\n",
    "import pandas as pd\n",
    "\n",
    "from utils.file_handler import Reader, Writer"
   ]
  },
  {
   "cell_type": "code",
   "execution_count": 2,
   "id": "1d3de08f",
   "metadata": {},
   "outputs": [
    {
     "data": {
      "text/plain": [
       "True"
      ]
     },
     "execution_count": 2,
     "metadata": {},
     "output_type": "execute_result"
    }
   ],
   "source": [
    "# check API\n",
    "load_dotenv()"
   ]
  },
  {
   "cell_type": "markdown",
   "id": "7569e1af",
   "metadata": {},
   "source": [
    "# Limited articles approach(no RAG)"
   ]
  },
  {
   "cell_type": "code",
   "execution_count": 3,
   "id": "2fe69852",
   "metadata": {},
   "outputs": [],
   "source": [
    "# queries\n",
    "query_name = \"query1\"\n",
    "query = Reader.read_txt(f'query/{query_name}.txt')"
   ]
  },
  {
   "cell_type": "code",
   "execution_count": 4,
   "id": "b7a7833f",
   "metadata": {},
   "outputs": [
    {
     "name": "stderr",
     "output_type": "stream",
     "text": [
      "C:\\Users\\Solo\\AppData\\Local\\Temp\\ipykernel_5928\\55862162.py:6: LangChainDeprecationWarning: The class `ChatOpenAI` was deprecated in LangChain 0.0.10 and will be removed in 1.0. An updated version of the class exists in the :class:`~langchain-openai package and should be used instead. To use it run `pip install -U :class:`~langchain-openai` and import as `from :class:`~langchain_openai import ChatOpenAI``.\n",
      "  llm = ChatOpenAI(model=MODEL_NAME, temperature=TEMPERATURE)\n"
     ]
    }
   ],
   "source": [
    "# GLOVAL LLM VALUES\n",
    "MODEL_NAME = 'gpt-4o'\n",
    "TEMPERATURE = 0.0\n",
    "\n",
    "# Define llm\n",
    "llm = ChatOpenAI(model=MODEL_NAME, temperature=TEMPERATURE)"
   ]
  },
  {
   "cell_type": "code",
   "execution_count": 5,
   "id": "3301ae64",
   "metadata": {},
   "outputs": [],
   "source": [
    "# Ppepare templates\n",
    "STANDART_TEMPLATE = \"\"\"\n",
    "Ти викладач юридичного права України.\n",
    "Ти намагаєшся відповідати на питання студентів наступним шаблоном:\n",
    "\"[Імʼя особи]-[пункт, частина, статаття, що передбачає покарання за вчинене кримінальне правопорушення, назва статті].\"\n",
    "Статей може бути декілька.]\"\n",
    "Ти використовуєш кримінальний кодекс України.\n",
    "Якщо відповіді ти не знаєш, відповідай \"Не певен, але вважаю що\" і намагайся здогадатися, якщо знаєш відповідай \"Відповідь така\".\n",
    "{query}\n",
    "\"\"\"\n",
    "LIMITED_ARTICLES_TEMPLATE = \"\"\"\n",
    "Ти спеціаліст по праву. \n",
    "Якщо відповіді ти не знаєш, відповідай \"Не певен, але вважаю що\" і намагайся здогадатися, якщо знаєш відповідай \"Відповідь така\" \n",
    "{query} Якими статтями можна описати діяння учасників?\n",
    "Стаття 124. Умисне заподіяння тяжких тілесних ушкоджень у разі перевищення меж \n",
    "Стаття 125. Умисне легке тілесне ушкодження\n",
    "Стаття 126. Побої і мордування\n",
    "Стаття 126-1. Домашнє насильство\n",
    "Стаття 292. Пошкодження об'єктів магістральних або промислових нафто-, газо-, конденсатопроводів та нафтопродуктопроводів\n",
    "Стаття 293. Групове порушення громадського порядку\n",
    "Стаття 300. Ввезення, виготовлення або розповсюдження творів, що пропагують культ \n",
    "Стаття 322. Незаконна організація або утримання місць для вживання одурманюючих засобів\n",
    "Стаття 323. Спонукання неповнолітніх до застосування допінгу\n",
    "Стаття 324. Схиляння неповнолітніх до вживання одурманюючих засобів\n",
    "\"\"\""
   ]
  },
  {
   "cell_type": "code",
   "execution_count": 6,
   "id": "8a285cb6",
   "metadata": {},
   "outputs": [
    {
     "name": "stdout",
     "output_type": "stream",
     "text": [
      "\n",
      "Ти спеціаліст по праву. \n",
      "Якщо відповіді ти не знаєш, відповідай \"Не певен, але вважаю що\" і намагайся здогадатися, якщо знаєш відповідай \"Відповідь така\" \n",
      "Контекст: Вахтанг, керівник однієї з політичних партій в Україні, перебуваючи у відрядженні у Республіці Польща, дізнався, що його громадянство України було припинено з підстав неналежного оформленні документів під час одержання такого громадянства. Бажаючи продовжувати свою політичну діяльність, Вахтанг домовився із Василем, Петром та Іваном, що ті організують «прихильників», які створять «масовку» під час переходу ним державного кордону України зі сторони Республіки Польща.\n",
      "11 вересня 2021 року Вахтанг прибув потягом до одного з пунктів пропуску на польсько-українському кордоні, зійшов з нього та у оточенні своїх прихильників (в кількості близько 20 осіб) яких покликали Василь та Петро, почав рухатися до пішохідного переходу. Іван та близько 200 прихильників Вахтанга чекали його на території України, викрикуючи політичні гасла. Польським прикордонникам Вахтанг пред’явив український закордонний паспорт і ті випустили його з території Республіки Польща. На території України Вахтанга та його прихильників чекали українські прикордонники, які оголосили про те, що закордонний паспорт Вахтанга недійсний і він не може потрапити на територію України. Почалася штовханина. Василь та Петро почали відштовхувати службовців ДПС України, створюючи «живий коридор», по якому Вахтанг потрапив на територію України. Під час цієї події ситуативно виникали бійки між прихильниками Вахтанга та службовцями ДПС, пункт пропуску не працював понад 5 годин, виникла черга з автомобілів та громадян як зі сторони України, так і зі сторони Республіки Польща, 11 працівників Національної поліції та 5 працівників ДПС України одержали легкі тілесні ушкодження. Якими статтями можна описати діяння учасників?\n",
      "Стаття 124. Умисне заподіяння тяжких тілесних ушкоджень у разі перевищення меж \n",
      "Стаття 125. Умисне легке тілесне ушкодження\n",
      "Стаття 126. Побої і мордування\n",
      "Стаття 126-1. Домашнє насильство\n",
      "Стаття 292. Пошкодження об'єктів магістральних або промислових нафто-, газо-, конденсатопроводів та нафтопродуктопроводів\n",
      "Стаття 293. Групове порушення громадського порядку\n",
      "Стаття 300. Ввезення, виготовлення або розповсюдження творів, що пропагують культ \n",
      "Стаття 322. Незаконна організація або утримання місць для вживання одурманюючих засобів\n",
      "Стаття 323. Спонукання неповнолітніх до застосування допінгу\n",
      "Стаття 324. Схиляння неповнолітніх до вживання одурманюючих засобів\n",
      "\n"
     ]
    },
    {
     "name": "stderr",
     "output_type": "stream",
     "text": [
      "C:\\Users\\Solo\\AppData\\Local\\Temp\\ipykernel_5928\\3689684043.py:9: LangChainDeprecationWarning: The method `BaseChatModel.__call__` was deprecated in langchain-core 0.1.7 and will be removed in 1.0. Use :meth:`~invoke` instead.\n",
      "  result = llm([HumanMessage(content=prompt_template.format(query=query))])\n"
     ]
    },
    {
     "name": "stdout",
     "output_type": "stream",
     "text": [
      "\n",
      " Total Tokens: 1130\n",
      " Prompt Tokens: 865\n",
      " Completion Tokens: 265\n",
      " Total Cost (USD): $0.005\n"
     ]
    }
   ],
   "source": [
    "# Define prompt\n",
    "prompt_template = PromptTemplate(input_variables=['query'], \n",
    "                                 template=LIMITED_ARTICLES_TEMPLATE)\n",
    "\n",
    "print(prompt_template.format(query=query))\n",
    "\n",
    "# Count the query tokens\n",
    "with get_openai_callback() as cb:\n",
    "    result = llm([HumanMessage(content=prompt_template.format(query=query))])\n",
    "    print(f\"\\n Total Tokens: {cb.total_tokens}\")\n",
    "    print(f\" Prompt Tokens: {cb.prompt_tokens}\")\n",
    "    print(f\" Completion Tokens: {cb.completion_tokens}\")\n",
    "    print(f\" Total Cost (USD): ${round(cb.total_cost, 3)}\")\n"
   ]
  },
  {
   "cell_type": "code",
   "execution_count": null,
   "id": "8727260a",
   "metadata": {},
   "outputs": [],
   "source": [
    "chain = prompt_template | llm "
   ]
  },
  {
   "cell_type": "code",
   "execution_count": 8,
   "id": "69898eb7",
   "metadata": {},
   "outputs": [],
   "source": [
    "response = chain.invoke({\"query\": query})"
   ]
  },
  {
   "cell_type": "code",
   "execution_count": 12,
   "id": "4d42dc76",
   "metadata": {},
   "outputs": [],
   "source": [
    "report = f\"The answer was generated by {MODEL_NAME}, temperature={TEMPERATURE}\""
   ]
  },
  {
   "cell_type": "code",
   "execution_count": null,
   "id": "bbea5b5f",
   "metadata": {},
   "outputs": [],
   "source": [
    "prompt_text = prompt_template.format(query=query)\n",
    "answer_text = getattr(response, \"content\", str(response))\n",
    "text = f\"Prompt:\\n{prompt_text}\\n{report}\\nAnswer:\\n{answer_text}\"\n",
    "Writer.write_txt(text, query_name)"
   ]
  },
  {
   "cell_type": "code",
   "execution_count": null,
   "id": "857dc935",
   "metadata": {},
   "outputs": [],
   "source": []
  },
  {
   "cell_type": "code",
   "execution_count": null,
   "id": "496d7b65",
   "metadata": {},
   "outputs": [],
   "source": []
  }
 ],
 "metadata": {
  "kernelspec": {
   "display_name": "lawyer",
   "language": "python",
   "name": "python3"
  },
  "language_info": {
   "codemirror_mode": {
    "name": "ipython",
    "version": 3
   },
   "file_extension": ".py",
   "mimetype": "text/x-python",
   "name": "python",
   "nbconvert_exporter": "python",
   "pygments_lexer": "ipython3",
   "version": "3.11.9"
  }
 },
 "nbformat": 4,
 "nbformat_minor": 5
}
