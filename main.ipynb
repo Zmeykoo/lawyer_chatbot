{
 "cells": [
  {
   "cell_type": "code",
   "execution_count": 1,
   "id": "0078bc7a",
   "metadata": {},
   "outputs": [],
   "source": [
    "import readers\n",
    "import text_chunks\n",
    "import os\n",
    "import pandas as pd\n",
    "\n",
    "from dotenv import load_dotenv, find_dotenv\n",
    "from langchain.chat_models import ChatOpenAI\n",
    "from langchain.prompts import PromptTemplate\n",
    "from langchain.chains.question_answering import load_qa_chain \n",
    "from langchain.chains import LLMChain\n",
    "from langchain.schema.messages import HumanMessage\n",
    "from langchain.callbacks import get_openai_callback"
   ]
  },
  {
   "cell_type": "code",
   "execution_count": 2,
   "id": "1d3de08f",
   "metadata": {},
   "outputs": [
    {
     "data": {
      "text/plain": [
       "True"
      ]
     },
     "execution_count": 2,
     "metadata": {},
     "output_type": "execute_result"
    }
   ],
   "source": [
    "# check API\n",
    "load_dotenv(find_dotenv())"
   ]
  },
  {
   "cell_type": "code",
   "execution_count": 3,
   "id": "2fe69852",
   "metadata": {},
   "outputs": [],
   "source": [
    "# queries\n",
    "query_name = \"query1\"\n",
    "query = readers.read_txt(f'query/{query_name}.txt')"
   ]
  },
  {
   "cell_type": "code",
   "execution_count": 4,
   "id": "b7a7833f",
   "metadata": {},
   "outputs": [],
   "source": [
    "# GLOVAL LLM VALUES\n",
    "MODEL_NAME = 'gpt-3.5-turbo'\n",
    "MODEL_NAME_16k = 'gpt-3.5-turbo-16k'\n",
    "TEMPERATURE = 0.0\n",
    "\n",
    "# Define llm\n",
    "llm = ChatOpenAI(model=MODEL_NAME, temperature=TEMPERATURE)"
   ]
  },
  {
   "cell_type": "code",
   "execution_count": 5,
   "id": "3301ae64",
   "metadata": {},
   "outputs": [],
   "source": [
    "# Ppepare templates\n",
    "STANDART_TEMPLATE = \"\"\"\n",
    "Ти викладач юридичного права України.\n",
    "Ти намагаєшся відповідати на питання студентів наступним шаблоном:\n",
    "\"[Імʼя особи]-[пункт, частина, статаття, що передбачає покарання за вчинене кримінальне правопорушення, назва статті].\"\n",
    "Статей може бути декілька.]\"\n",
    "Ти використовуєш кримінальний кодекс України.\n",
    "Якщо відповіді ти не знаєш, відповідай \"Не певен, але вважаю що\" і намагайся здогадатися, якщо знаєш відповідай \"Відповідь така\".\n",
    "{query}\n",
    "\"\"\"\n",
    "LIMITED_ARTICLES_TEMPLATE = \"\"\"\n",
    "Ти спеціаліст по праву. \n",
    "Якщо відповіді ти не знаєш, відповідай \"Не певен, але вважаю що\" і намагайся здогадатися, якщо знаєш відповідай \"Відповідь така\" \n",
    "{query} Якими статтями можна описати діяння учасників?\n",
    "Стаття 124. Умисне заподіяння тяжких тілесних ушкоджень у разі перевищення меж \n",
    "Стаття 125. Умисне легке тілесне ушкодження\n",
    "Стаття 126. Побої і мордування\n",
    "Стаття 126-1. Домашнє насильство\n",
    "Стаття 292. Пошкодження об'єктів магістральних або промислових нафто-, газо-, конденсатопроводів та нафтопродуктопроводів\n",
    "Стаття 293. Групове порушення громадського порядку\n",
    "Стаття 300. Ввезення, виготовлення або розповсюдження творів, що пропагують культ \n",
    "Стаття 322. Незаконна організація або утримання місць для вживання одурманюючих засобів\n",
    "Стаття 323. Спонукання неповнолітніх до застосування допінгу\n",
    "Стаття 324. Схиляння неповнолітніх до вживання одурманюючих засобів\n",
    "\"\"\""
   ]
  },
  {
   "cell_type": "code",
   "execution_count": 6,
   "id": "8a285cb6",
   "metadata": {},
   "outputs": [
    {
     "name": "stdout",
     "output_type": "stream",
     "text": [
      "\n",
      "Ти спеціаліст по праву. \n",
      "Якщо відповіді ти не знаєш, відповідай \"Не певен, але вважаю що\" і намагайся здогадатися, якщо знаєш відповідай \"Відповідь така\" \n",
      "Контекст: Вахтанг, керівник однієї з політичних партій в Україні, перебуваючи у відрядженні у Республіці Польща, дізнався, що його громадянство України було припинено з підстав неналежного оформленні документів під час одержання такого громадянства. Бажаючи продовжувати свою політичну діяльність, Вахтанг домовився із Василем, Петром та Іваном, що ті організують «прихильників», які створять «масовку» під час переходу ним державного кордону України зі сторони Республіки Польща.\n",
      "11 вересня 2021 року Вахтанг прибув потягом до одного з пунктів пропуску на польсько-українському кордоні, зійшов з нього та у оточенні своїх прихильників (в кількості близько 20 осіб) яких покликали Василь та Петро, почав рухатися до пішохідного переходу. Іван та близько 200 прихильників Вахтанга чекали його на території України, викрикуючи політичні гасла. Польським прикордонникам Вахтанг пред’явив український закордонний паспорт і ті випустили його з території Республіки Польща. На території України Вахтанга та його прихильників чекали українські прикордонники, які оголосили про те, що закордонний паспорт Вахтанга недійсний і він не може потрапити на територію України. Почалася штовханина. Василь та Петро почали відштовхувати службовців ДПС України, створюючи «живий коридор», по якому Вахтанг потрапив на територію України. Під час цієї події ситуативно виникали бійки між прихильниками Вахтанга та службовцями ДПС, пункт пропуску не працював понад 5 годин, виникла черга з автомобілів та громадян як зі сторони України, так і зі сторони Республіки Польща, 11 працівників Національної поліції та 5 працівників ДПС України одержали легкі тілесні ушкодження. Якими статтями можна описати діяння учасників?\n",
      "Стаття 124. Умисне заподіяння тяжких тілесних ушкоджень у разі перевищення меж \n",
      "Стаття 125. Умисне легке тілесне ушкодження\n",
      "Стаття 126. Побої і мордування\n",
      "Стаття 126-1. Домашнє насильство\n",
      "Стаття 292. Пошкодження об'єктів магістральних або промислових нафто-, газо-, конденсатопроводів та нафтопродуктопроводів\n",
      "Стаття 293. Групове порушення громадського порядку\n",
      "Стаття 300. Ввезення, виготовлення або розповсюдження творів, що пропагують культ \n",
      "Стаття 322. Незаконна організація або утримання місць для вживання одурманюючих засобів\n",
      "Стаття 323. Спонукання неповнолітніх до застосування допінгу\n",
      "Стаття 324. Схиляння неповнолітніх до вживання одурманюючих засобів\n",
      "\n",
      "\n",
      " Total Tokens: 1882\n",
      " Prompt Tokens: 1533\n",
      " Completion Tokens: 349\n",
      " Total Cost (USD): $0.003\n"
     ]
    }
   ],
   "source": [
    "# Define prompt\n",
    "prompt_template = PromptTemplate(input_variables=['query'], \n",
    "                                 template=LIMITED_ARTICLES_TEMPLATE)\n",
    "\n",
    "print(prompt_template.format(query=query))\n",
    "\n",
    "# Count the query tokens\n",
    "with get_openai_callback() as cb:\n",
    "    result = llm([HumanMessage(content=prompt_template.format(query=query))])\n",
    "    print(f\"\\n Total Tokens: {cb.total_tokens}\")\n",
    "    print(f\" Prompt Tokens: {cb.prompt_tokens}\")\n",
    "    print(f\" Completion Tokens: {cb.completion_tokens}\")\n",
    "    print(f\" Total Cost (USD): ${round(cb.total_cost, 3)}\")\n"
   ]
  },
  {
   "cell_type": "code",
   "execution_count": 7,
   "id": "8727260a",
   "metadata": {},
   "outputs": [],
   "source": [
    "# define chain\n",
    "chain = LLMChain(llm=llm, prompt=prompt_template, verbose=False)"
   ]
  },
  {
   "cell_type": "code",
   "execution_count": 8,
   "id": "69898eb7",
   "metadata": {},
   "outputs": [],
   "source": [
    "response = chain.run(query=query)"
   ]
  },
  {
   "cell_type": "code",
   "execution_count": 11,
   "id": "4d42dc76",
   "metadata": {},
   "outputs": [
    {
     "name": "stdout",
     "output_type": "stream",
     "text": [
      "\n",
      "The answer was generated by gpt-3.5-turbo, temperature=0.0:\n",
      "***\n",
      "Стаття 125. Умисне легке тілесне ушкодження - оскільки 11 працівників Національної поліції та 5 працівників ДПС України одержали легкі тілесні ушкодження під час штовханини і бійок.\n",
      "Стаття 293. Групове порушення громадського порядку - оскільки виникла штовханина та бійки між прихильниками Вахтанга та службовцями ДПС, а також черга з автомобілів та громадян.\n",
      "Можливо також можна розглядати статтю 126. Побої і мордування, оскільки прихильники Вахтанга відштовхували службовців ДПС, створюючи \"живий коридор\". Однак, для точної кваліфікації цього діяння потрібно більше деталей.\n",
      "***\n",
      "\n",
      "\n"
     ]
    }
   ],
   "source": [
    "# Report\n",
    "report = f\"\"\"\n",
    "The answer was generated by {MODEL_NAME}, temperature={TEMPERATURE}:\\n***\\n{response}\\n***\\n\n",
    "\"\"\"\n",
    "print(report)"
   ]
  },
  {
   "cell_type": "code",
   "execution_count": null,
   "id": "f8caef50",
   "metadata": {},
   "outputs": [],
   "source": []
  },
  {
   "cell_type": "code",
   "execution_count": null,
   "id": "bbea5b5f",
   "metadata": {},
   "outputs": [],
   "source": []
  },
  {
   "cell_type": "code",
   "execution_count": 14,
   "id": "857dc935",
   "metadata": {},
   "outputs": [],
   "source": [
    "# Save response\n",
    "from datetime import date\n",
    "\n",
    "num = 0\n",
    "save_path = \"response/\"\n",
    "\n",
    "while os.path.exists(f\"{save_path}{query_name}_{date.today()}_({num}).txt\"):\n",
    "    num += 1\n",
    "\n",
    "file_name = f\"{query_name}_{date.today()}_({num}).txt\"\n",
    "path = save_path+file_name\n",
    "\n",
    "with open(path, \"w\", encoding=\"UTF-8\") as save_response:\n",
    "    result = prompt_template.format(query=query) + report\n",
    "    save_response.write(result)\n",
    "save_response.close()"
   ]
  },
  {
   "cell_type": "code",
   "execution_count": null,
   "id": "496d7b65",
   "metadata": {},
   "outputs": [],
   "source": []
  },
  {
   "cell_type": "code",
   "execution_count": null,
   "id": "5e704528",
   "metadata": {},
   "outputs": [],
   "source": []
  },
  {
   "cell_type": "code",
   "execution_count": null,
   "id": "5c56f869",
   "metadata": {},
   "outputs": [],
   "source": []
  },
  {
   "cell_type": "code",
   "execution_count": null,
   "id": "6655730c",
   "metadata": {},
   "outputs": [],
   "source": []
  },
  {
   "cell_type": "code",
   "execution_count": null,
   "id": "87940a79",
   "metadata": {},
   "outputs": [],
   "source": []
  },
  {
   "cell_type": "code",
   "execution_count": null,
   "id": "e6cf6a1d",
   "metadata": {},
   "outputs": [],
   "source": []
  }
 ],
 "metadata": {
  "kernelspec": {
   "display_name": "Python 3 (ipykernel)",
   "language": "python",
   "name": "python3"
  },
  "language_info": {
   "codemirror_mode": {
    "name": "ipython",
    "version": 3
   },
   "file_extension": ".py",
   "mimetype": "text/x-python",
   "name": "python",
   "nbconvert_exporter": "python",
   "pygments_lexer": "ipython3",
   "version": "3.10.9"
  }
 },
 "nbformat": 4,
 "nbformat_minor": 5
}
